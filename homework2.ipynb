{
  "nbformat": 4,
  "nbformat_minor": 0,
  "metadata": {
    "colab": {
      "provenance": [],
      "collapsed_sections": [],
      "authorship_tag": "ABX9TyNbRLu75Qg2YLbdyd7R/hE/",
      "include_colab_link": true
    },
    "kernelspec": {
      "name": "python3",
      "display_name": "Python 3"
    },
    "language_info": {
      "name": "python"
    }
  },
  "cells": [
    {
      "cell_type": "markdown",
      "metadata": {
        "id": "view-in-github",
        "colab_type": "text"
      },
      "source": [
        "<a href=\"https://colab.research.google.com/gist/greatakela/22347b4ccf161b0fe00bb959850d6af2/homework2.ipynb\" target=\"_parent\"><img src=\"https://colab.research.google.com/assets/colab-badge.svg\" alt=\"Open In Colab\"/></a>"
      ]
    },
    {
      "cell_type": "code",
      "execution_count": 3,
      "metadata": {
        "colab": {
          "base_uri": "https://localhost:8080/"
        },
        "id": "sY1YGlLqBBfg",
        "outputId": "27916b25-393d-465b-abd8-298650b18c91"
      },
      "outputs": [
        {
          "output_type": "stream",
          "name": "stdout",
          "text": [
            "\u001b[K     |████████████████████████████████| 1.9 MB 16.0 MB/s \n",
            "\u001b[K     |████████████████████████████████| 62 kB 1.3 MB/s \n",
            "\u001b[?25h"
          ]
        }
      ],
      "source": [
        "!pip install -q -U kaggle_environments\n",
        "import numpy as np\n",
        "import pandas as pd\n",
        "import random\n",
        "\n",
        "import matplotlib.pyplot as plt\n",
        "import seaborn as sns\n",
        "\n",
        "from kaggle_environments import make, evaluate"
      ]
    },
    {
      "cell_type": "markdown",
      "source": [
        "# **Бот, выдающий только камень**"
      ],
      "metadata": {
        "id": "9NERKx3X8Elt"
      }
    },
    {
      "cell_type": "code",
      "source": [
        "%%writefile rock_agent.py\n",
        "\n",
        "#Always shows rock\n",
        "\n",
        "def rock_always(observation, configuration):\n",
        "    return 0"
      ],
      "metadata": {
        "colab": {
          "base_uri": "https://localhost:8080/"
        },
        "id": "ijXmRreXBMIB",
        "outputId": "b180b810-b548-4af1-e08e-95318eb168ad"
      },
      "execution_count": 1,
      "outputs": [
        {
          "output_type": "stream",
          "name": "stdout",
          "text": [
            "Writing rock_agent.py\n"
          ]
        }
      ]
    },
    {
      "cell_type": "code",
      "source": [
        "evaluate(\n",
        "    \"rps\", #environment to use - no need to change\n",
        "    [\"rock\",  \"statistical\"], #agents to evaluate\n",
        "    configuration={\"episodeSteps\": 100} #number of episodes \n",
        ")"
      ],
      "metadata": {
        "colab": {
          "base_uri": "https://localhost:8080/"
        },
        "id": "Yl7irWc-iFxc",
        "outputId": "38704bf7-87aa-41b2-d4ba-28635c4c8221"
      },
      "execution_count": 4,
      "outputs": [
        {
          "output_type": "execute_result",
          "data": {
            "text/plain": [
              "[[-98.0, 98.0]]"
            ]
          },
          "metadata": {},
          "execution_count": 4
        }
      ]
    },
    {
      "cell_type": "markdown",
      "source": [
        "# **Бот, выдающий только бумагу**"
      ],
      "metadata": {
        "id": "DTgyLemg8a-f"
      }
    },
    {
      "cell_type": "code",
      "source": [
        "%%writefile paper_agent.py\n",
        "\n",
        "#Always shows paper\n",
        "\n",
        "def paper_always(observation, configuration):\n",
        "    return 1\n",
        "\n"
      ],
      "metadata": {
        "colab": {
          "base_uri": "https://localhost:8080/"
        },
        "id": "VCcJuYMrBNlb",
        "outputId": "6e12efaa-9cec-46f3-fec8-7f791ebaa357"
      },
      "execution_count": null,
      "outputs": [
        {
          "output_type": "stream",
          "name": "stdout",
          "text": [
            "Writing paper_agent.py\n"
          ]
        }
      ]
    },
    {
      "cell_type": "code",
      "source": [
        "evaluate(\n",
        "    \"rps\", #environment to use - no need to change\n",
        "    [\"paper\",  \"statistical\"], #agents to evaluate\n",
        "    configuration={\"episodeSteps\": 100} #number of episodes \n",
        ")"
      ],
      "metadata": {
        "colab": {
          "base_uri": "https://localhost:8080/"
        },
        "id": "K8a2fvuxilws",
        "outputId": "cebb8f3a-2779-4939-a49f-71d5efa58d9c"
      },
      "execution_count": null,
      "outputs": [
        {
          "output_type": "execute_result",
          "data": {
            "text/plain": [
              "[[-97.0, 97.0]]"
            ]
          },
          "metadata": {},
          "execution_count": 11
        }
      ]
    },
    {
      "cell_type": "markdown",
      "source": [
        "# **Бот, выдающий только ножницы**"
      ],
      "metadata": {
        "id": "6rEAWer_8foF"
      }
    },
    {
      "cell_type": "code",
      "source": [
        "%%writefile scissors_agent.py\n",
        "\n",
        "#Always shows scissors\n",
        "\n",
        "def scissors_always(observation, configuration):\n",
        "    return 2"
      ],
      "metadata": {
        "colab": {
          "base_uri": "https://localhost:8080/"
        },
        "id": "Pwj8F-FRBS93",
        "outputId": "4229b3c0-9294-4215-ac2d-f21d0cede9e7"
      },
      "execution_count": null,
      "outputs": [
        {
          "output_type": "stream",
          "name": "stdout",
          "text": [
            "Writing scissors_agent.py\n"
          ]
        }
      ]
    },
    {
      "cell_type": "code",
      "source": [
        "evaluate(\n",
        "    \"rps\", #environment to use - no need to change\n",
        "    [\"scissors\",  \"statistical\"], #agents to evaluate\n",
        "    configuration={\"episodeSteps\": 100} #number of episodes \n",
        ")"
      ],
      "metadata": {
        "colab": {
          "base_uri": "https://localhost:8080/"
        },
        "id": "udoqQjuFi3HK",
        "outputId": "166f4bdd-29da-4a78-8b39-9a7114eca3d6"
      },
      "execution_count": null,
      "outputs": [
        {
          "output_type": "execute_result",
          "data": {
            "text/plain": [
              "[[-99.0, 99.0]]"
            ]
          },
          "metadata": {},
          "execution_count": 14
        }
      ]
    },
    {
      "cell_type": "markdown",
      "source": [
        "# **Бот, повторяющий последний ход противника**"
      ],
      "metadata": {
        "id": "TseD4QaV8jWN"
      }
    },
    {
      "cell_type": "code",
      "source": [
        "%%writefile copy_opponent.py\n",
        "\n",
        "import random\n",
        "\n",
        "#Repeats opponent's last move\n",
        "\n",
        "def copy_opponent(observation, configuration):\n",
        "\n",
        "    #in case we have information about opponent last move\n",
        "    if observation.step > 0:\n",
        "        return observation.lastOpponentAction\n",
        "    #initial step\n",
        "    else:\n",
        "        return random.randrange(0, configuration.signs)"
      ],
      "metadata": {
        "colab": {
          "base_uri": "https://localhost:8080/"
        },
        "id": "n5PG9sATBeNm",
        "outputId": "534d8d14-2334-4eff-e781-ca728359518b"
      },
      "execution_count": null,
      "outputs": [
        {
          "output_type": "stream",
          "name": "stdout",
          "text": [
            "Writing copy_opponent.py\n"
          ]
        }
      ]
    },
    {
      "cell_type": "code",
      "source": [
        "evaluate(\n",
        "    \"rps\", #environment to use - no need to change\n",
        "    [\"copy_opponent\",  \"statistical\"], #agents to evaluate\n",
        "    configuration={\"episodeSteps\": 100} #number of episodes \n",
        ")"
      ],
      "metadata": {
        "colab": {
          "base_uri": "https://localhost:8080/"
        },
        "id": "1oIkIZfIjIzq",
        "outputId": "93f587d1-9fb0-4c68-9454-31133a91086a"
      },
      "execution_count": null,
      "outputs": [
        {
          "output_type": "execute_result",
          "data": {
            "text/plain": [
              "[[-21.0, 21.0]]"
            ]
          },
          "metadata": {},
          "execution_count": 16
        }
      ]
    },
    {
      "cell_type": "markdown",
      "source": [
        "# **Бот, выдающий случайный ход**"
      ],
      "metadata": {
        "id": "m9CDX14-8yTv"
      }
    },
    {
      "cell_type": "code",
      "source": [
        "%%writefile random_action.py\n",
        "import random\n",
        "\n",
        "#Shows random move\n",
        "\n",
        "def random_action(observation, configuration):\n",
        "        return random.randrange(0, configuration.signs)"
      ],
      "metadata": {
        "colab": {
          "base_uri": "https://localhost:8080/"
        },
        "id": "TdBRq-TTBhqb",
        "outputId": "9963c17f-501c-4740-e9e0-65d33dff3022"
      },
      "execution_count": 17,
      "outputs": [
        {
          "output_type": "stream",
          "name": "stdout",
          "text": [
            "Writing random_action.py\n"
          ]
        }
      ]
    },
    {
      "cell_type": "code",
      "source": [
        "evaluate(\n",
        "    \"rps\", #environment to use - no need to change\n",
        "    [\"random_action.py\",  \"statistical\"], #agents to evaluate\n",
        "    configuration={\"episodeSteps\": 100} #number of episodes \n",
        ")"
      ],
      "metadata": {
        "colab": {
          "base_uri": "https://localhost:8080/"
        },
        "id": "Ldzyb1-2kM1f",
        "outputId": "13721451-554d-40ac-fef3-d1401f513cbe"
      },
      "execution_count": 18,
      "outputs": [
        {
          "output_type": "execute_result",
          "data": {
            "text/plain": [
              "[[0, 0]]"
            ]
          },
          "metadata": {},
          "execution_count": 18
        }
      ]
    },
    {
      "cell_type": "markdown",
      "source": [
        "# **Бот, побивающий вероятный ход противника**"
      ],
      "metadata": {
        "id": "mEHw3pLv9szG"
      }
    },
    {
      "cell_type": "code",
      "source": [
        "%%writefile statistical.py\n",
        "#statistically probable action \n",
        "\n",
        "action_histogram = {}\n",
        "\n",
        "\n",
        "def statistical(observation, configuration):\n",
        "    global action_histogram\n",
        "    if observation.step == 0:\n",
        "        action_histogram = {}\n",
        "        return\n",
        "    action = observation.lastOpponentAction\n",
        "    if action not in action_histogram:\n",
        "        action_histogram[action] = 0\n",
        "    action_histogram[action] += 1\n",
        "    mode_action = None\n",
        "    mode_action_count = None\n",
        "    for k, v in action_histogram.items():\n",
        "        if mode_action_count is None or v > mode_action_count:\n",
        "            mode_action = k\n",
        "            mode_action_count = v\n",
        "            continue\n",
        "\n",
        "    return (mode_action + 1) % configuration.signs"
      ],
      "metadata": {
        "colab": {
          "base_uri": "https://localhost:8080/"
        },
        "id": "CLwe9ZCsBknC",
        "outputId": "11db8d30-cea0-4c8f-a31f-c9ed22290c6d"
      },
      "execution_count": null,
      "outputs": [
        {
          "output_type": "stream",
          "name": "stdout",
          "text": [
            "Overwriting statistical.py\n"
          ]
        }
      ]
    },
    {
      "cell_type": "markdown",
      "source": [
        "# **Бот, побивающий последний ход противника**"
      ],
      "metadata": {
        "id": "1YY9rOlu-S9z"
      }
    },
    {
      "cell_type": "code",
      "source": [
        "%%writefile reactionary_action.py\n",
        "import random\n",
        "\n",
        "#Counters last opponent's move\n",
        "last_react_action = None\n",
        "\n",
        "def reactionary(observation, configuration):\n",
        "    global last_react_action\n",
        "    #initial step\n",
        "    if observation.step == 0:\n",
        "        last_react_action = random.randrange(0, configuration.signs)\n",
        "    #Counters last opponent's move\n",
        "    elif get_score(last_react_action, observation.lastOpponentAction) <= 1:\n",
        "        last_react_action = (observation.lastOpponentAction + 1) % configuration.signs\n",
        "\n",
        "    return last_react_action"
      ],
      "metadata": {
        "colab": {
          "base_uri": "https://localhost:8080/"
        },
        "id": "MgRmBN9TCpRx",
        "outputId": "c0921b2d-4e1f-427c-db70-e57109bb1b5f"
      },
      "execution_count": null,
      "outputs": [
        {
          "output_type": "stream",
          "name": "stdout",
          "text": [
            "Overwriting reactionary_action.py\n"
          ]
        }
      ]
    },
    {
      "cell_type": "code",
      "source": [
        "evaluate(\n",
        "    \"rps\", #environment to use - no need to change\n",
        "    [\"reactionary\",  \"statistical\"], #agents to evaluate\n",
        "    configuration={\"episodeSteps\": 100} #number of episodes \n",
        ")"
      ],
      "metadata": {
        "colab": {
          "base_uri": "https://localhost:8080/"
        },
        "id": "tvs-fELZ13Lb",
        "outputId": "37abe0af-6c1f-458e-c50e-79217da7e155"
      },
      "execution_count": null,
      "outputs": [
        {
          "output_type": "execute_result",
          "data": {
            "text/plain": [
              "[[59.0, -59.0]]"
            ]
          },
          "metadata": {},
          "execution_count": 25
        }
      ]
    },
    {
      "cell_type": "markdown",
      "source": [
        "# **Бот, побивающий последний ход противника в случае его предыдущей победы или ничьей, или побивающий его предполагаемую реакцию на мой ход в случае моей предыдущей победы**"
      ],
      "metadata": {
        "id": "naHTmS2FA8Kz"
      }
    },
    {
      "cell_type": "code",
      "source": [
        "%%writefile counter_action.py\n",
        "import random\n",
        "\n",
        "#Counters last opponent's move\n",
        "last_counter_action = None\n",
        "\n",
        "\n",
        "def counter_reactionary(observation, configuration):\n",
        "    global last_counter_action\n",
        "    #initial step\n",
        "    if observation.step == 0:\n",
        "        last_counter_action = random.randrange(0, configuration.signs)\n",
        "    #Counters opponent's reaction to my previous move\n",
        "    elif get_score(last_counter_action, observation.lastOpponentAction) == 1:\n",
        "        last_counter_action = (last_counter_action + 2) % configuration.signs\n",
        "    #Counters last opponent's move\n",
        "    else:\n",
        "        last_counter_action = (observation.lastOpponentAction + 1) % configuration.signs\n",
        "\n",
        "    return last_counter_action"
      ],
      "metadata": {
        "colab": {
          "base_uri": "https://localhost:8080/"
        },
        "id": "jtF3Ak9zFGBx",
        "outputId": "249002cd-4532-4703-d786-654bb6d443be"
      },
      "execution_count": null,
      "outputs": [
        {
          "output_type": "stream",
          "name": "stdout",
          "text": [
            "Writing counter_action.py\n"
          ]
        }
      ]
    },
    {
      "cell_type": "code",
      "source": [
        "evaluate(\n",
        "    \"rps\", #environment to use - no need to change\n",
        "    [\"counter_reactionary\",  \"statistical\"], #agents to evaluate\n",
        "    configuration={\"episodeSteps\": 100} #number of episodes \n",
        ")"
      ],
      "metadata": {
        "colab": {
          "base_uri": "https://localhost:8080/"
        },
        "id": "q1yrYCrAlR34",
        "outputId": "4b3c42b3-52f1-4e9f-df86-6a4f01e8061f"
      },
      "execution_count": null,
      "outputs": [
        {
          "output_type": "execute_result",
          "data": {
            "text/plain": [
              "[[95.0, -95.0]]"
            ]
          },
          "metadata": {},
          "execution_count": 27
        }
      ]
    },
    {
      "cell_type": "markdown",
      "source": [
        "# **Бот, выдающий случайный ход, не совпадающий с предыдущим ходом противника**"
      ],
      "metadata": {
        "id": "wemQMduTDNOl"
      }
    },
    {
      "cell_type": "code",
      "source": [
        "%%writefile rand_anti_opponent.py\n",
        "import random\n",
        "\n",
        "# Example \n",
        "def random_anti_opponent(observation, configuration):\n",
        "    # In case we have information about opponent last move\n",
        "    if observation.step > 0:\n",
        "        # Full list for action\n",
        "        for_action = [0,1,2]\n",
        "        # Remove last action opponent\n",
        "        for_action.remove(observation.lastOpponentAction)\n",
        "        return random.choice(for_action)\n",
        "    #initial step\n",
        "    else:\n",
        "         return random.randrange(0, configuration.signs)"
      ],
      "metadata": {
        "colab": {
          "base_uri": "https://localhost:8080/"
        },
        "id": "czpWQSGTBpAx",
        "outputId": "a00c0554-b115-48ee-d14d-49a360042810"
      },
      "execution_count": 7,
      "outputs": [
        {
          "output_type": "stream",
          "name": "stdout",
          "text": [
            "Overwriting rand_anti_opponent.py\n"
          ]
        }
      ]
    },
    {
      "cell_type": "code",
      "source": [
        "evaluate(\n",
        "    \"rps\", #environment to use - no need to change\n",
        "    [\"rand_anti_opponent.py\",  \"statistical\"], #agents to evaluate\n",
        "    configuration={\"episodeSteps\": 100} #number of episodes \n",
        ")"
      ],
      "metadata": {
        "colab": {
          "base_uri": "https://localhost:8080/"
        },
        "id": "JiLZrDp_FmNd",
        "outputId": "b89ea308-3d8d-444e-e6f1-21e3b1756251"
      },
      "execution_count": 11,
      "outputs": [
        {
          "output_type": "execute_result",
          "data": {
            "text/plain": [
              "[[0, 0]]"
            ]
          },
          "metadata": {},
          "execution_count": 11
        }
      ]
    },
    {
      "cell_type": "markdown",
      "source": [
        "# **Бот, выдающий ножницы на четном шаге и другие два варианта случайно на нечетном шаге**"
      ],
      "metadata": {
        "id": "L6WwdVsDMStC"
      }
    },
    {
      "cell_type": "code",
      "source": [
        "%%writefile even_scissors.py\n",
        "import random\n",
        "# Even step scissors bot\n",
        "def even_scissors(observation, configuration):\n",
        "    # if even step\n",
        "    if observation.step % 2 == 0: return 2\n",
        "    else: return random.choice([0, 1])"
      ],
      "metadata": {
        "colab": {
          "base_uri": "https://localhost:8080/"
        },
        "id": "2M9e3MTaL2QR",
        "outputId": "27452f0e-0aaf-4cfb-bfba-da553fe5d11a"
      },
      "execution_count": 28,
      "outputs": [
        {
          "output_type": "stream",
          "name": "stdout",
          "text": [
            "Overwriting even_scissors.py\n"
          ]
        }
      ]
    },
    {
      "cell_type": "code",
      "source": [
        "evaluate(\n",
        "    \"rps\", #environment to use - no need to change\n",
        "    [\"even_scissors.py\",  \"statistical\"], #agents to evaluate\n",
        "    configuration={\"episodeSteps\": 100} #number of episodes \n",
        ")"
      ],
      "metadata": {
        "colab": {
          "base_uri": "https://localhost:8080/"
        },
        "id": "coY4ya1XMKVj",
        "outputId": "7ee1671e-110e-46c1-d348-929dd18c5c9b"
      },
      "execution_count": 29,
      "outputs": [
        {
          "output_type": "execute_result",
          "data": {
            "text/plain": [
              "[[-27.0, 27.0]]"
            ]
          },
          "metadata": {},
          "execution_count": 29
        }
      ]
    },
    {
      "cell_type": "markdown",
      "source": [
        "# **Бот, выдающий два раза бумагу, потом случайный ход**"
      ],
      "metadata": {
        "id": "evVujrk0FCb7"
      }
    },
    {
      "cell_type": "code",
      "source": [
        "%%writefile paper_x_2_rand.py\n",
        "import random\n",
        "# \"2 x paper + random\" bot\n",
        "def paper_x_2_rand(observation, configuration):\n",
        "    # first 2 moves\n",
        "    if observation.step % 3 == 0: \n",
        "      return 1\n",
        "    elif observation.step % 3 == 1:\n",
        "      return 1\n",
        "    # third move\n",
        "    else: return random.choice([0, 2])"
      ],
      "metadata": {
        "colab": {
          "base_uri": "https://localhost:8080/"
        },
        "id": "SzfgJXtJDero",
        "outputId": "9e5c14f9-a75f-43e5-fb27-6ea408af2e1c"
      },
      "execution_count": 12,
      "outputs": [
        {
          "output_type": "stream",
          "name": "stdout",
          "text": [
            "Writing paper_x_2_rand.py\n"
          ]
        }
      ]
    },
    {
      "cell_type": "code",
      "source": [
        "evaluate(\n",
        "    \"rps\", #environment to use - no need to change\n",
        "    [\"paper_x_2_rand.py\",  \"statistical\"], #agents to evaluate\n",
        "    configuration={\"episodeSteps\": 100} #number of episodes \n",
        ")"
      ],
      "metadata": {
        "colab": {
          "base_uri": "https://localhost:8080/"
        },
        "id": "yT6_UuXqtosd",
        "outputId": "aa215a41-300a-4850-88a3-2a6206c0bbbe"
      },
      "execution_count": 14,
      "outputs": [
        {
          "output_type": "execute_result",
          "data": {
            "text/plain": [
              "[[-53.0, 53.0]]"
            ]
          },
          "metadata": {},
          "execution_count": 14
        }
      ]
    },
    {
      "cell_type": "markdown",
      "source": [
        "# **Бот, выдающий два раза камень, потом два случайных хода**"
      ],
      "metadata": {
        "id": "Q0Rkg8_DGmki"
      }
    },
    {
      "cell_type": "code",
      "source": [
        "%%writefile rock_x_2_rand_x_2.py\n",
        "import random\n",
        "# \"2 x rock + 2 x random\" bot\n",
        "def rock_x_2_rand_x_2(observation, configuration):\n",
        "    # first 2 moves\n",
        "    if observation.step % 4 in [0,1]: \n",
        "      return 0\n",
        "    # next 2 moves\n",
        "    else: return random.choice([1, 2])"
      ],
      "metadata": {
        "colab": {
          "base_uri": "https://localhost:8080/"
        },
        "id": "vxRNxaX0E0UI",
        "outputId": "c28d1a98-47ef-49a6-a514-7118d2f24154"
      },
      "execution_count": 15,
      "outputs": [
        {
          "output_type": "stream",
          "name": "stdout",
          "text": [
            "Writing rock_x_2_rand_x_2.py\n"
          ]
        }
      ]
    },
    {
      "cell_type": "code",
      "source": [
        "evaluate(\n",
        "    \"rps\", #environment to use - no need to change\n",
        "    [\"rock_x_2_rand_x_2.py\",  \"statistical\"], #agents to evaluate\n",
        "    configuration={\"episodeSteps\": 100} #number of episodes \n",
        ")"
      ],
      "metadata": {
        "colab": {
          "base_uri": "https://localhost:8080/"
        },
        "id": "dRjmjQq8Ga4F",
        "outputId": "149cc9ba-6093-4b28-e4bb-8405dc0bec64"
      },
      "execution_count": 16,
      "outputs": [
        {
          "output_type": "execute_result",
          "data": {
            "text/plain": [
              "[[-20.0, 20.0]]"
            ]
          },
          "metadata": {},
          "execution_count": 16
        }
      ]
    },
    {
      "cell_type": "markdown",
      "source": [
        "# **Бот, повторяющий последний ход противника на нечетном шаге и побивающий предыдущий ход противника на четном шаге** "
      ],
      "metadata": {
        "id": "xG0v-aqQIz4A"
      }
    },
    {
      "cell_type": "code",
      "source": [
        "%%writefile odd_copy_opponent.py\n",
        "import random\n",
        "\n",
        "# copies last opponent's move on the odd step, counters last opponent's move on the even step\n",
        "\n",
        "def odd_copy_opponent(observation, configuration):\n",
        "    # In case we have information about opponent last move\n",
        "    if observation.step > 0:\n",
        "        # odd step\n",
        "        if observation.step % 2 == 1: \n",
        "            return observation.lastOpponentAction      \n",
        "        # even step\n",
        "        else:\n",
        "            return (observation.lastOpponentAction + 1) % configuration.signs\n",
        "    # Initial step\n",
        "    else:\n",
        "         return random.randrange(0, configuration.signs)\n",
        "\n"
      ],
      "metadata": {
        "colab": {
          "base_uri": "https://localhost:8080/"
        },
        "id": "ewYrpHFKGzP4",
        "outputId": "9201bebf-b721-416b-9a3d-167757d62d6c"
      },
      "execution_count": 19,
      "outputs": [
        {
          "output_type": "stream",
          "name": "stdout",
          "text": [
            "Writing odd_copy_opponent.py\n"
          ]
        }
      ]
    },
    {
      "cell_type": "code",
      "source": [
        "evaluate(\n",
        "    \"rps\", #environment to use - no need to change\n",
        "    [\"odd_copy_opponent.py\",  \"statistical\"], #agents to evaluate\n",
        "    configuration={\"episodeSteps\": 100} #number of episodes \n",
        ")"
      ],
      "metadata": {
        "colab": {
          "base_uri": "https://localhost:8080/"
        },
        "id": "6sHd-FiQKoPt",
        "outputId": "3c7a8491-1a98-4c4c-b5f2-f5a7b6dc8113"
      },
      "execution_count": 20,
      "outputs": [
        {
          "output_type": "execute_result",
          "data": {
            "text/plain": [
              "[[94.0, -94.0]]"
            ]
          },
          "metadata": {},
          "execution_count": 20
        }
      ]
    },
    {
      "cell_type": "markdown",
      "source": [
        "# **Проведение турнира**"
      ],
      "metadata": {
        "id": "Z3Xa-NYnjvGd"
      }
    },
    {
      "cell_type": "code",
      "source": [
        "def get_pairs(lst, n):\n",
        "    #функция разбиения списка список \n",
        "    #списков по n элементов\n",
        "    \n",
        "    for i in range(0, len(lst), n):\n",
        "        yield lst[i:i + n]\n",
        "\n",
        "def round_tournaments(players):\n",
        "    \n",
        "    #функция гругового турнира players\n",
        "   \n",
        "    qty_players = len(players)\n",
        "    scores = [0 for _ in range(qty_players)]\n",
        "    for x in range(qty_players):\n",
        "      for y in range(x + 1, qty_players):\n",
        "        for z in range(PERIODS):\n",
        "            res = evaluate(\"rps\", [players[x], players[y]],\n",
        "                            configuration = {\n",
        "                                           'episodeSteps': 100,\n",
        "                                           'tieRewardThreshold':1\n",
        "                                           }\n",
        "                            )[0]\n",
        "            if not period: results.append(res)\n",
        "            else:\n",
        "              scores[players.index(players[x])] += res[0]\n",
        "              scores[players.index(players[y])] += res[1]\n",
        "    sort_scores = sorted(scores)          \n",
        "    players = [players[scores.index(score)] for score in sort_scores]\n",
        "    return players[qty_players // 2:]\n",
        "\n",
        "players = ['rock',\n",
        "           'paper',\n",
        "           'scissors',\n",
        "           'copy_opponent',\n",
        "           'reactionary',\n",
        "           'counter_reactionary',\n",
        "           'paper_x_2_rand.py',\n",
        "           'odd_copy_opponent.py',\n",
        "           'rock_x_2_rand_x_2.py',\n",
        "           'even_scissors.py',\n",
        "           'rand_anti_opponent.py',\n",
        "           'random_action.py'\n",
        "]\n",
        "\n",
        "# периодов в парной игре\n",
        "PERIODS = 5\n",
        "# перемешиваем участников\n",
        "random.shuffle(players)\n",
        "\n",
        "qty_players = len(players)\n",
        "PLAY = True\n",
        "step = 1\n",
        "\n",
        "while PLAY:\n",
        "    if qty_players % 2:\n",
        "      print('Нечетное количество участников - нужен круговой турнир')\n",
        "      print('______________________')\n",
        "      # Собираем победителей кругового турнира функцией\n",
        "      players = round_tournaments(players)\n",
        "\n",
        "    else:\n",
        "        pairs = qty_players // 2\n",
        "\n",
        "        if not pairs % 2:\n",
        "            print('Турнир пар по жребию')\n",
        "            print('______________________')\n",
        "            groups = list(get_pairs(players, 2))\n",
        "            print(f'Количество турнирных пар {len(groups)}')\n",
        "            results = []\n",
        "            for period in range(PERIODS):\n",
        "              for i, pair in enumerate(groups):\n",
        "                #print(pair)\n",
        "                res = evaluate(\n",
        "                \"rps\", #environment to use - no need to change\n",
        "                pair, #agents to evaluate\n",
        "                configuration={\n",
        "                              'episodeSteps': 100,\n",
        "                              'tieRewardThreshold':1\n",
        "                               } #number of episodes \n",
        "                )[0]\n",
        "                #print(res)\n",
        "                if not period: results.append(res)\n",
        "                else:\n",
        "                  results[i][0] += res[0]\n",
        "                  results[i][1] += res[1]\n",
        "              # Собираем победителей этапа из победителей пар\n",
        "              players = []\n",
        "              for result, pair in zip(results, groups):\n",
        "                  if result[0]  >result[1]: players.append(pair[0])\n",
        "                  elif result[0] < result[1]: players.append(pair[1])\n",
        "                  # Берем обоих если нет победителя\n",
        "                  else: players.extend(pair)\n",
        "\n",
        "        else:\n",
        "          \n",
        "          print('Нечетное количество пар - нужен круговой турнир')\n",
        "          print('______________________')\n",
        "          # Собираем победителей кругового турнира функцией\n",
        "          players = round_tournaments(players)\n",
        "\n",
        "\n",
        "    print(f'Победители этапа {step}')\n",
        "    for player in players:\n",
        "      print(player)\n",
        "    print()\n",
        "    # перемешиваем участников\n",
        "    random.shuffle(players)\n",
        "    step += 1\n",
        "\n",
        "    qty_players = len(players)\n",
        "    if qty_players < 2:\n",
        "      print(f'Победитель {players[0]}')\n",
        "      PLAY = False"
      ],
      "metadata": {
        "colab": {
          "base_uri": "https://localhost:8080/"
        },
        "id": "C0-Mv1fajnzu",
        "outputId": "4dd6090e-16d4-4f82-c278-9078f95040fb"
      },
      "execution_count": 30,
      "outputs": [
        {
          "output_type": "stream",
          "name": "stdout",
          "text": [
            "Турнир пар по жребию\n",
            "______________________\n",
            "Количество турнирных пар 6\n",
            "Победители этапа 1\n",
            "even_scissors.py\n",
            "paper\n",
            "copy_opponent\n",
            "reactionary\n",
            "rock_x_2_rand_x_2.py\n",
            "rand_anti_opponent.py\n",
            "\n",
            "Нечетное количество пар - нужен круговой турнир\n",
            "______________________\n",
            "Победители этапа 2\n",
            "rand_anti_opponent.py\n",
            "even_scissors.py\n",
            "reactionary\n",
            "\n",
            "Нечетное количество участников - нужен круговой турнир\n",
            "______________________\n",
            "Победители этапа 3\n",
            "rand_anti_opponent.py\n",
            "even_scissors.py\n",
            "\n",
            "Нечетное количество пар - нужен круговой турнир\n",
            "______________________\n",
            "Победители этапа 4\n",
            "even_scissors.py\n",
            "\n",
            "Победитель even_scissors.py\n"
          ]
        }
      ]
    },
    {
      "cell_type": "code",
      "source": [],
      "metadata": {
        "id": "WLUkmedtjqCj"
      },
      "execution_count": null,
      "outputs": []
    }
  ]
}